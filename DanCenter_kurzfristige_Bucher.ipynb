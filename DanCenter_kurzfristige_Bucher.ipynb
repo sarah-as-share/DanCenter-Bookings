{
 "cells": [
  {
   "cell_type": "markdown",
   "metadata": {},
   "source": [
    "# Kurzfristige Bucher +  Ziele"
   ]
  },
  {
   "cell_type": "markdown",
   "metadata": {},
   "source": [
    "Ziel dieser Analyse ist es, die \n",
    "- kurzfristigen Bucher zu finden, wobei kurzfristig heißt: Unterschied zwischen Buchung und Reiseantritt ist weniger als 1 Monat\n",
    "- Ziele dieser kurzfistigen Bucher zu finden\n",
    "- ob sie \"Wiederholungstäter\" sind"
   ]
  },
  {
   "cell_type": "markdown",
   "metadata": {},
   "source": [
    "### Laden der Bibiliotheken und Einlesen der Daten"
   ]
  },
  {
   "cell_type": "code",
   "execution_count": 1,
   "metadata": {},
   "outputs": [
    {
     "name": "stdout",
     "output_type": "stream",
     "text": [
      "Populating the interactive namespace from numpy and matplotlib\n"
     ]
    }
   ],
   "source": [
    "import pandas as pd\n",
    "%pylab inline\n",
    "\n",
    "# no zeros even if not int\n",
    "pd.set_option('precision', 3)\n",
    "pd.set_option('display.max_rows' , 999)"
   ]
  },
  {
   "cell_type": "code",
   "execution_count": 2,
   "metadata": {},
   "outputs": [],
   "source": [
    "dat = pd.read_pickle('allDat.pkl')\n",
    "dat_de = pd.read_pickle('deDat.pkl')"
   ]
  },
  {
   "cell_type": "markdown",
   "metadata": {},
   "source": [
    "### Baunternehmer und Reiseveranstalter rausfiltern"
   ]
  },
  {
   "cell_type": "code",
   "execution_count": 5,
   "metadata": {},
   "outputs": [
    {
     "name": "stdout",
     "output_type": "stream",
     "text": [
      "Reiseveranstalter_emails:\n",
      "4459\n",
      "\n",
      "Bau_emails:\n",
      "122\n",
      "\n",
      "Bau_names:\n",
      "31\n",
      "\n"
     ]
    }
   ],
   "source": [
    "# Filter für Bauunternehmer und Reisveranstalter\n",
    "Bauunternehmer_Email_List =['roman.boll@gmx.net','info@ingmont.com', 'estrich', \n",
    "                      'construction', 'rkm-industrieservice', 'gebr-nowack.de','heizung','stahlbau',\n",
    "                      'strabag','spitzke','the-m-group','miebach-group','montage',\n",
    "                            'koecher-ladenbau','bauservice','metallbau','ethosenergygroup','roehrsag']\n",
    "Bauunternehmer_Name_List = ['spitzke', 'strabag', 'danmark']\n",
    "\n",
    "Reiseveranstalter_Email_List = ['sven.kahrs@kkbz.de','sven.kahrs@kkbz.de','atraveo', \n",
    "                          'reisen','reisebuero', 'interhome', 'schulfahrt', 'dfb.nl', 'wsmfunsport', \n",
    "                          'tours', 'flugboerse','erholung','dancenter','reiseland','wolters.tui',\n",
    "                                'guest.booking.com',\n",
    "                               'danland']\n",
    "\n",
    "emails = dat['E-Mail '].tolist()\n",
    "names = dat['Kundenname'].tolist()\n",
    "\n",
    "all_entries__in_dat_found_by_lists = {}\n",
    "\n",
    "var_names = ['Reiseveranstalter_emails','Bau_emails','Bau_names']\n",
    "list_names = [Reiseveranstalter_Email_List, Bauunternehmer_Email_List, Bauunternehmer_Name_List]\n",
    "lists_to_search = [emails, emails, names]\n",
    "\n",
    "for idx, listname in enumerate(list_names):\n",
    "    all_entries__in_dat_found_by_lists[var_names[idx]] = []\n",
    "\n",
    "    for email in lists_to_search[idx]:\n",
    "        for pat in listname:\n",
    "            if pat in email:\n",
    "                all_entries__in_dat_found_by_lists[var_names[idx]].append(email)\n",
    "                \n",
    "    all_entries__in_dat_found_by_lists[var_names[idx]] = unique(all_entries__in_dat_found_by_lists[var_names[idx]])\n",
    "\n",
    "\n",
    "    print(var_names[idx]+':')\n",
    "    print(len(all_entries__in_dat_found_by_lists[var_names[idx]]))\n",
    "    print('')"
   ]
  },
  {
   "cell_type": "code",
   "execution_count": null,
   "metadata": {},
   "outputs": [],
   "source": [
    "dat['length_travel']."
   ]
  },
  {
   "cell_type": "code",
   "execution_count": 6,
   "metadata": {},
   "outputs": [],
   "source": [
    "# Bauunternehmer und Reisebüros rausnehmen\n",
    "dat_wo_bau_reise = dat.loc[-((dat['Kundenname'].isin(all_entries__in_dat_found_by_lists['Bau_names'])) | \n",
    "                     (dat['E-Mail '].isin(all_entries__in_dat_found_by_lists['Bau_emails'])) |\n",
    "                     (dat['E-Mail '].isin(all_entries__in_dat_found_by_lists['Reiseveranstalter_emails'])))]\n",
    "\n",
    "# Einträge ohne E-Mail rausnehmen, weil keine Ansprechmöglichkeit\n",
    "dat_wo_bau_reise_email = dat_wo_bau_reise[-(dat_wo_bau_reise['E-Mail ']=='0000')]"
   ]
  },
  {
   "cell_type": "markdown",
   "metadata": {},
   "source": [
    "### Extrahieren der Kurzbuchungen"
   ]
  },
  {
   "cell_type": "code",
   "execution_count": 7,
   "metadata": {},
   "outputs": [
    {
     "data": {
      "text/plain": [
       "(38526, 40)"
      ]
     },
     "execution_count": 7,
     "metadata": {},
     "output_type": "execute_result"
    },
    {
     "data": {
      "image/png": "[encoded data removed]",
      "text/plain": [
       "<Figure size 432x288 with 1 Axes>"
      ]
     },
     "metadata": {},
     "output_type": "display_data"
    }
   ],
   "source": [
    "# filter für Kurzentschlossene = Buchungszeit zwischen Buchung und Anreise weniger als 35 Tage\n",
    "fast_book = dat_wo_bau_reise_email.loc[dat_wo_bau_reise_email['time_btw_book_travel_days']<=50].copy()\n",
    "ax=dat_wo_bau_reise_email['time_btw_book_travel_days'].hist(bins=80)\n",
    "ax.set_xlim(0,150)\n",
    "fast_book.shape"
   ]
  },
  {
   "cell_type": "markdown",
   "metadata": {},
   "source": [
    "### Some Numbers"
   ]
  },
  {
   "cell_type": "code",
   "execution_count": 49,
   "metadata": {},
   "outputs": [
    {
     "name": "stdout",
     "output_type": "stream",
     "text": [
      "(183511, 40)\n",
      "(38526, 40)\n"
     ]
    }
   ],
   "source": [
    "print(dat.shape)\n",
    "print(fast_book.shape)"
   ]
  },
  {
   "cell_type": "markdown",
   "metadata": {},
   "source": [
    "#### Destinations"
   ]
  },
  {
   "cell_type": "code",
   "execution_count": 9,
   "metadata": {},
   "outputs": [
    {
     "name": "stdout",
     "output_type": "stream",
     "text": [
      "Hausnation\n",
      "D     12.358\n",
      "DK    76.302\n",
      "N      5.558\n",
      "SE     5.783\n",
      "dtype: float64\n",
      "Hausnation\n",
      "D     11.582\n",
      "DK    83.450\n",
      "N      1.661\n",
      "SE     3.307\n",
      "dtype: float64\n"
     ]
    }
   ],
   "source": [
    "print((dat.groupby('Hausnation').size()/183511)*100)\n",
    "print((fast_book.groupby('Hausnation').size()/38526)*100)"
   ]
  },
  {
   "cell_type": "markdown",
   "metadata": {},
   "source": [
    "#### Anzahl der Personen"
   ]
  },
  {
   "cell_type": "code",
   "execution_count": 56,
   "metadata": {},
   "outputs": [
    {
     "name": "stdout",
     "output_type": "stream",
     "text": [
      "4.0\n",
      "4.512639569290124\n",
      "3.0\n",
      "3.6211649275813738\n"
     ]
    },
    {
     "data": {
      "image/png": "[encoded data removed]",
      "text/plain": [
       "<Figure size 432x288 with 1 Axes>"
      ]
     },
     "metadata": {},
     "output_type": "display_data"
    }
   ],
   "source": [
    "print(dat.Personen.median())\n",
    "print(dat.Personen.mean())\n",
    "print(fast_book.Personen.median())\n",
    "print(fast_book.Personen.mean())\n",
    "plt=dat.Personen.hist(bins=30,density=True,alpha=0.5)\n",
    "plt=fast_book.Personen.hist(bins=17,density=True,alpha=0.5)\n",
    "plt.legend(['alle Buchungen','Kurzfristige Buchungen'])\n",
    "_=plt.set_xlabel(xlabel='Anzahl der Personen')\n",
    "_=plt.set_ylabel('normierte Bins')"
   ]
  },
  {
   "cell_type": "code",
   "execution_count": 12,
   "metadata": {},
   "outputs": [],
   "source": [
    "dat.groupby('Personen').size().to_csv('Personenanzahl_alleBuchungen.csv')\n",
    "fast_book.groupby('Personen').size().to_csv('Personenanzahl_Kurzbuchungen.csv')"
   ]
  },
  {
   "cell_type": "markdown",
   "metadata": {},
   "source": [
    "#### Teure Buchung"
   ]
  },
  {
   "cell_type": "code",
   "execution_count": 16,
   "metadata": {},
   "outputs": [
    {
     "name": "stdout",
     "output_type": "stream",
     "text": [
      "count    183511.000\n",
      "mean        931.691\n",
      "std         673.404\n",
      "min           0.000\n",
      "25%         480.000\n",
      "50%         734.000\n",
      "75%        1167.000\n",
      "max       10914.000\n",
      "Name: Mietpreis_Euro, dtype: float64\n",
      "count    38526.000\n",
      "mean       648.302\n",
      "std        446.117\n",
      "min          0.000\n",
      "25%        360.000\n",
      "50%        521.000\n",
      "75%        782.000\n",
      "max       6367.000\n",
      "Name: Mietpreis_Euro, dtype: float64\n"
     ]
    }
   ],
   "source": [
    "print(dat.Mietpreis_Euro.describe())\n",
    "print(fast_book.Mietpreis_Euro.describe())"
   ]
  },
  {
   "cell_type": "code",
   "execution_count": 20,
   "metadata": {},
   "outputs": [
    {
     "data": {
      "image/png": "[encoded data removed]",
      "text/plain": [
       "<Figure size 432x288 with 1 Axes>"
      ]
     },
     "metadata": {},
     "output_type": "display_data"
    }
   ],
   "source": [
    "plt=dat.Mietpreis_Euro.hist(bins=30,density=True,alpha=0.5)\n",
    "plt=fast_book.Mietpreis_Euro.hist(bins=17,density=True,alpha=0.5)\n",
    "plt.legend(['alle Buchungen','Kurzfristige Buchungen'])\n",
    "_=plt.set_xlabel(xlabel='Preis in Euro')\n",
    "_=plt.set_ylabel('normierte Bins')"
   ]
  },
  {
   "cell_type": "code",
   "execution_count": 62,
   "metadata": {},
   "outputs": [
    {
     "name": "stdout",
     "output_type": "stream",
     "text": [
      "0.2502465792241337\n",
      "0.10330685770648393\n"
     ]
    }
   ],
   "source": [
    "print(dat.loc[dat.Mietpreis_Euro>=1167].shape[0]/183511)\n",
    "print(fast_book.loc[fast_book.Mietpreis_Euro>=1167].shape[0]/38526)"
   ]
  },
  {
   "cell_type": "markdown",
   "metadata": {},
   "source": [
    "#### Anreisemonat"
   ]
  },
  {
   "cell_type": "code",
   "execution_count": 19,
   "metadata": {},
   "outputs": [
    {
     "data": {
      "image/png": "[encoded data removed]",
      "text/plain": [
       "<Figure size 432x288 with 1 Axes>"
      ]
     },
     "metadata": {},
     "output_type": "display_data"
    }
   ],
   "source": [
    "ax=fast_book.month_of_travel.hist(bins=12)\n",
    "ax.set_xlabel('Monat')\n",
    "ax.set_ylabel('Anzahl der Kurzbuchungen')\n",
    "fast_book.groupby('month_of_travel').size().to_csv('Anreisemonat_Kurzbuchung.csv')\n",
    "dat.groupby('month_of_travel').size().to_csv('Anreisemonat_alleBuchungen.csv')"
   ]
  },
  {
   "cell_type": "code",
   "execution_count": 67,
   "metadata": {},
   "outputs": [
    {
     "data": {
      "text/plain": [
       "month_of_travel\n",
       "1     1287\n",
       "2     1570\n",
       "3     3376\n",
       "4     3117\n",
       "5     2805\n",
       "6     2195\n",
       "7     3749\n",
       "8     7146\n",
       "9     4292\n",
       "10    5644\n",
       "11    1365\n",
       "12    1980\n",
       "dtype: int64"
      ]
     },
     "execution_count": 67,
     "metadata": {},
     "output_type": "execute_result"
    }
   ],
   "source": [
    "fast_book.groupby('month_of_travel').size()"
   ]
  },
  {
   "cell_type": "markdown",
   "metadata": {},
   "source": [
    "#### Tage vor Anreise"
   ]
  },
  {
   "cell_type": "code",
   "execution_count": 14,
   "metadata": {},
   "outputs": [
    {
     "data": {
      "image/png": "[encoded data removed]",
      "text/plain": [
       "<Figure size 432x288 with 1 Axes>"
      ]
     },
     "metadata": {},
     "output_type": "display_data"
    }
   ],
   "source": [
    "ax = fast_book.time_btw_book_travel_days.hist(bins=100)\n",
    "ax.set_xlim([-20,55])\n",
    "ax.set_xlabel('Tage zwischen Buchung und Anreise')\n",
    "ax.set_ylabel('Anzahl Buchungen')\n",
    "\n",
    "fast_book.groupby('time_btw_book_travel_days').size().to_csv('TageVorAnreise_Kurzbuchung.csv')"
   ]
  },
  {
   "cell_type": "markdown",
   "metadata": {},
   "source": [
    "#### Direktbuchung"
   ]
  },
  {
   "cell_type": "code",
   "execution_count": 102,
   "metadata": {},
   "outputs": [
    {
     "name": "stdout",
     "output_type": "stream",
     "text": [
      "Buchung: direkt/indirekt\n",
      "Bur    49.747\n",
      "Dir    50.253\n",
      "dtype: float64\n",
      "Buchung: direkt/indirekt\n",
      "Bur    42.306\n",
      "Dir    57.694\n",
      "dtype: float64\n"
     ]
    }
   ],
   "source": [
    "\n",
    "print((dat.groupby('Buchung: direkt/indirekt').size()/183511)*100)\n",
    "print((fast_book.groupby('Buchung: direkt/indirekt').size()/38526)*100)\n"
   ]
  },
  {
   "cell_type": "markdown",
   "metadata": {},
   "source": [
    "#### Länge der Reise"
   ]
  },
  {
   "cell_type": "code",
   "execution_count": 15,
   "metadata": {},
   "outputs": [
    {
     "name": "stdout",
     "output_type": "stream",
     "text": [
      "9.444899760777282\n",
      "7.0\n",
      "7.816876914291647\n",
      "7.0\n"
     ]
    },
    {
     "data": {
      "image/png": "[encoded data removed]",
      "text/plain": [
       "<Figure size 432x288 with 1 Axes>"
      ]
     },
     "metadata": {},
     "output_type": "display_data"
    }
   ],
   "source": [
    "print(dat['length_travel'].mean())\n",
    "print(dat['length_travel'].median())\n",
    "print(fast_book['length_travel'].mean())\n",
    "print(fast_book['length_travel'].median())\n",
    "\n",
    "plt=dat['length_travel'].hist(bins=30,density=True,alpha=0.5)\n",
    "plt=fast_book['length_travel'].hist(bins=30,density=True,alpha=0.5)\n",
    "plt.set_title('Länge der Reise')\n",
    "plt.legend(['alle Buchungen','Kurzfristige Buchungen'])\n",
    "_=plt.set_xlabel(xlabel='Tage')\n",
    "\n",
    "dat.groupby('length_travel').size().to_csv('Reiselaenge_allBuchungen.csv')\n",
    "fast_book.groupby('length_travel').size().to_csv('Reiselaenge_Kurzbuchungen.csv')\n"
   ]
  },
  {
   "cell_type": "markdown",
   "metadata": {},
   "source": [
    "### Helper functions for collapsing series to one data entry"
   ]
  },
  {
   "cell_type": "code",
   "execution_count": 6,
   "metadata": {},
   "outputs": [],
   "source": [
    "def concat_num(dat):\n",
    "    not_na =[]\n",
    "    for x in dat:\n",
    "        if not np.isnan(x):\n",
    "            not_na.append(str(int(x)))\n",
    "         \n",
    "    res = not_na[0]\n",
    "    if len(not_na)>1:\n",
    "        for x in not_na[1:]:\n",
    "            res = res + ','+x\n",
    "    return res\n",
    "\n",
    "def concat_str(dat):\n",
    "    not_na =[]\n",
    "    for x in dat:\n",
    "        if isinstance(x,str):\n",
    "            not_na.append(x)\n",
    "         \n",
    "    res = not_na[0]\n",
    "    if len(not_na)>1:\n",
    "        for x in not_na[1:]:\n",
    "            res = res + ','+x\n",
    "    return res\n",
    "\n",
    "def is_in(dat, str_to_test):\n",
    "    not_na =[]\n",
    "    for x in dat:\n",
    "        if isinstance(x,str):\n",
    "            not_na.append(x)\n",
    "         \n",
    "    if str_to_test in not_na:\n",
    "        return 'j'\n",
    "    else:\n",
    "        return 'n'"
   ]
  },
  {
   "cell_type": "markdown",
   "metadata": {},
   "source": [
    "### Dictionaries for Travel Destinies"
   ]
  },
  {
   "cell_type": "code",
   "execution_count": 19,
   "metadata": {},
   "outputs": [],
   "source": [
    "area = {'Nordsee - DK':[80,81,82,83,84,85,88,89,77],\n",
    "        'Ostsee und Landesinnere': [71,72,73,74,75,76,78,61,62,63],\n",
    "        'Inseln': [51,52,41,42,43,44,45,46,47,48,49,31],\n",
    "        'Nordsee - DE':[2],\n",
    "        'Ostsee - DE':[4],\n",
    "        'Sued- und Fjordnorwegen':[17,18,19,20,21,22,23],\n",
    "        'Mittelnorwegen': [24,25],\n",
    "        'Ostnorwegen':[11,12,13,14,15],\n",
    "        'Nordnorwegen':[26,27,28],\n",
    "        'Sued- und Westschweden':[90,91,93],\n",
    "        'Nord- und Mittelschweden':[95,96],\n",
    "         'not assigned': [30,34,94]}\n",
    "\n",
    "country = {'Daenemark': area['Nordsee - DK']+area['Ostsee und Landesinnere'] + area['Inseln'],\n",
    "           'Deutschland':area['Nordsee - DE']+area['Ostsee - DE'],\n",
    "           'Norwegen': area['Sued- und Fjordnorwegen']+area['Mittelnorwegen']+\n",
    "                       area['Ostnorwegen']+area['Nordnorwegen'],\n",
    "           'Schweden': area['Sued- und Westschweden']+area['Nord- und Mittelschweden'],\n",
    "           'not assigned': area['not assigned']}"
   ]
  },
  {
   "cell_type": "markdown",
   "metadata": {},
   "source": [
    "### Buchungen zusammenführen"
   ]
  },
  {
   "cell_type": "code",
   "execution_count": null,
   "metadata": {},
   "outputs": [],
   "source": [
    "## Wiederkehrer finden\n",
    "# nur Reisen mit gleichen E-mails und unterschiedlichen Abreisedaten sind Wiederkehrer\n",
    "# Reisen mit gleichen E-Mails und gleichen Abreisedaten werden gedropped\n",
    "dat_wo_bau_reise_email = dat_wo_bau_reise_email.drop_duplicates(subset=['E-Mail ','Anreise'])\n",
    "\n",
    "# alle Buchungen, von Kunden, die mind. einmal eine kurzfristige Buchung getätigt haben\n",
    "alle_buchungen_fast_book = dat_wo_bau_reise_email.loc[dat_wo_bau_reise_email['E-Mail '].isin(fast_book['E-Mail '])]"
   ]
  },
  {
   "cell_type": "code",
   "execution_count": 7,
   "metadata": {},
   "outputs": [],
   "source": [
    "## Buchungen werden über die E-Mail zusammengeführt\n",
    "# Methode: pivot(index = Email, columns=Anreise_Monat, values = <var>)\n",
    "#\n",
    "# Es gibt zwei Datensätze: - alle Buchungen, von deren Emails jemals eine Kurzbuchung abging\n",
    "#                          - alle Kurzbuchungen\n",
    "#\n",
    "# Für jeden dieser Datensätze werden entweder alle Buchungen je Monat zusammengeführt ODER\n",
    "# die letzte Buchung (gemessen an Anreise) im Monat\n",
    "\n",
    "## values = Hausgebiete\n",
    "\n",
    "# Pivot für alle Buchungen\n",
    "all_travels_per_month = alle_buchungen_fast_book.pivot_table(index='E-Mail ', \n",
    "                                                           columns='Anreise_month', \n",
    "                                                           values='Hausgebiet', \n",
    "                                                           aggfunc=[len, (lambda x: ','.join(str(int(v)) for v in x))])\n",
    "\n",
    "last_travels_per_month = alle_buchungen_fast_book.pivot_table(index='E-Mail ', \n",
    "                                                           columns='Anreise_month', \n",
    "                                                           values='Hausgebiet', \n",
    "                                                           aggfunc='last')\n",
    "\n",
    "# Pivot für Kurzfristige Buchungen\n",
    "all_travels_per_month_fast_book = fast_book.pivot_table(index='E-Mail ', \n",
    "                                                           columns='Anreise_month', \n",
    "                                                           values='Hausgebiet', \n",
    "                                                           aggfunc=[len, (lambda x: ','.join(str(int(v)) for v in x))])\n",
    "\n",
    "last_travels_per_month_fast_book = fast_book.pivot_table(index='E-Mail ', \n",
    "                                                           columns='Anreise_month', \n",
    "                                                           values='Hausgebiet', \n",
    "                                                           aggfunc='last')\n",
    "\n"
   ]
  },
  {
   "cell_type": "code",
   "execution_count": 10,
   "metadata": {},
   "outputs": [],
   "source": [
    "## Hier nur letzte Reise im Monat\n",
    "\n",
    "##  values = Leute\n",
    "last_travels_per_month_people = alle_buchungen_fast_book.pivot_table(index='E-Mail ', \n",
    "                                                           columns='Anreise_month', \n",
    "                                                            values='Personen', \n",
    "                                                           aggfunc='last')\n",
    "last_travels_per_month_fast_book_people = fast_book.pivot_table(index='E-Mail ', \n",
    "                                                           columns='Anreise_month', \n",
    "                                                           values='Personen', \n",
    "                                                           aggfunc='last')\n",
    "##  values = Preis\n",
    "last_travels_per_month_price = alle_buchungen_fast_book.pivot_table(index='E-Mail ', \n",
    "                                                           columns='Anreise_month', \n",
    "                                                            values='Mietpreis_Euro', \n",
    "                                                           aggfunc='last')\n",
    "last_travels_per_month_fast_book_price = fast_book.pivot_table(index='E-Mail ', \n",
    "                                                           columns='Anreise_month', \n",
    "                                                           values='Mietpreis_Euro', \n",
    "                                                           aggfunc='last')\n",
    "\n",
    "## values = time span btw booking and travel\n",
    "last_travels_per_month_fast_book_time_span = fast_book.pivot_table(index='E-Mail ', \n",
    "                                                           columns='Anreise_month', \n",
    "                                                           values='time_btw_book_travel_days', \n",
    "                                                           aggfunc='last')\n",
    "\n",
    "##  values = direkte Buchungen\n",
    "last_travels_per_month_dirIndir = alle_buchungen_fast_book.pivot_table(index='E-Mail ', \n",
    "                                                           columns='Anreise_month', \n",
    "                                                            values='Buchung: direkt/indirekt', \n",
    "                                                           aggfunc='last')\n",
    "last_travels_per_month_fast_book_dirIndir = fast_book.pivot_table(index='E-Mail ', \n",
    "                                                           columns='Anreise_month', \n",
    "                                                           values='Buchung: direkt/indirekt', \n",
    "                                                           aggfunc='last')\n",
    "\n",
    "## values = teures Haus\n",
    "last_travels_per_month_teurHaus = alle_buchungen_fast_book.pivot_table(index='E-Mail ', \n",
    "                                                           columns='Anreise_month', \n",
    "                                                            values='teures_Haus', \n",
    "                                                           aggfunc='last')\n",
    "last_travels_per_month_fast_book_teurHaus = fast_book.pivot_table(index='E-Mail ', \n",
    "                                                           columns='Anreise_month', \n",
    "                                                           values='teures_Haus', \n",
    "                                                           aggfunc='last')\n",
    "\n",
    "##  values = Danland\n",
    "last_travels_per_month_Danland = alle_buchungen_fast_book.pivot_table(index='E-Mail ', \n",
    "                                                           columns='Anreise_month', \n",
    "                                                            values='Brand', \n",
    "                                                           aggfunc='last')\n",
    "last_travels_per_month_fast_book_Danland = fast_book.pivot_table(index='E-Mail ', \n",
    "                                                           columns='Anreise_month', \n",
    "                                                           values='Brand', \n",
    "                                                           aggfunc='last')\n",
    "\n",
    "##  values = teure Buchung\n",
    "last_travels_per_month_teurBuch = alle_buchungen_fast_book.pivot_table(index='E-Mail ', \n",
    "                                                           columns='Anreise_month', \n",
    "                                                            values='teure_Buchung', \n",
    "                                                           aggfunc='last')\n",
    "last_travels_per_month_fast_book_teurBuch = fast_book.pivot_table(index='E-Mail ', \n",
    "                                                           columns='Anreise_month', \n",
    "                                                           values='teure_Buchung', \n",
    "                                                           aggfunc='last')\n"
   ]
  },
  {
   "cell_type": "code",
   "execution_count": 8,
   "metadata": {},
   "outputs": [],
   "source": [
    "## Ergebnis enthält als Serie alle Anreise Monate der Kurzbuchungen, \n",
    "## bei mehreren Buchungen für eine Email durch Komma getrennt\n",
    "\n",
    "all_travels_per_month_fast_book_month = fast_book.groupby('E-Mail ')['Anreise_month'].agg(lambda x: concat_str(x.tolist()))"
   ]
  },
  {
   "cell_type": "markdown",
   "metadata": {},
   "source": [
    "### Build Data Frame"
   ]
  },
  {
   "cell_type": "code",
   "execution_count": 11,
   "metadata": {},
   "outputs": [],
   "source": [
    "concat_bookings = pd.DataFrame(\n",
    "{'fast_book_last_travel_goal': last_travels_per_month_fast_book.apply(lambda x: x[-x.isna()][-1],axis=1),\n",
    "'fast_book_last_travel_month': last_travels_per_month_fast_book.apply(lambda x: x[-x.isna()].index.values[-1], axis=1),\n",
    "'fast_book_last_travel_people': last_travels_per_month_fast_book_people.apply(lambda x: x[-x.isna()][-1],axis=1),\n",
    "'fast_book_last_travel_price': last_travels_per_month_fast_book_price.apply(lambda x: x[-x.isna()][-1],axis=1),\n",
    " \n",
    "'fast_book_gesamt_count': (-last_travels_per_month_fast_book.isna()).sum(axis=1),\n",
    "'fast_book_gesamt_goals': last_travels_per_month_fast_book.apply(concat_num , axis=1),\n",
    "'fast_book_gesamt_people': last_travels_per_month_fast_book_people.apply(concat_num , axis=1),\n",
    "'fast_book_gesamt_price': last_travels_per_month_fast_book_price.apply(concat_num , axis=1),\n",
    "'fast_book_gesamt_month': all_travels_per_month_fast_book_month,\n",
    "'fast_book_gesamt_timespan_btw_book_travel': last_travels_per_month_fast_book_time_span.apply(concat_num , axis=1),\n",
    " \n",
    "'all_book_last_travel_goal': last_travels_per_month.apply(lambda x: x[-x.isna()][-1],axis=1),\n",
    "'all_book_last_travel_month': last_travels_per_month.apply(lambda x: x[-x.isna()].index.values[-1], axis=1),\n",
    "'all_book_last_travel_people': last_travels_per_month_people.apply(lambda x: x[-x.isna()][-1],axis=1),\n",
    "'all_book_last_travel_price': last_travels_per_month_price.apply(lambda x: x[-x.isna()][-1],axis=1),\n",
    " \n",
    "'all_book_gesamt_count': (-last_travels_per_month.isna()).sum(axis=1),\n",
    "'all_book_gesamt_goals': last_travels_per_month.apply(concat_num , axis=1),\n",
    "'all_book_gesamt_people': last_travels_per_month_people.apply(concat_num , axis=1),\n",
    "'all_book_gesamt_price': last_travels_per_month_price.apply(concat_num , axis=1)},\n",
    "            index=last_travels_per_month_fast_book.index )"
   ]
  },
  {
   "cell_type": "code",
   "execution_count": 13,
   "metadata": {},
   "outputs": [],
   "source": [
    "concat_bookings['all_books_dirIndir'] = last_travels_per_month_dirIndir.apply(func=is_in, args=('Dir',),axis=1)\n",
    "concat_bookings['last_travel_dirIndir'] = last_travels_per_month_dirIndir.apply(lambda x: x[-x.isna()][-1],axis=1)\n",
    "\n",
    "concat_bookings['all_books_teuresHaus'] = last_travels_per_month_teurHaus.apply(is_in, args=('j',),axis=1)\n",
    "concat_bookings['last_travel_teuresHaus'] = last_travels_per_month_teurHaus.apply(lambda x: x[-x.isna()][-1],axis=1)\n",
    "\n",
    "concat_bookings['all_books_teureBuchung'] = last_travels_per_month_teurBuch.apply(is_in, args=('j',),axis=1)\n",
    "concat_bookings['last_travel_teureBuchung'] = last_travels_per_month_teurBuch.apply(lambda x: x[-x.isna()][-1],axis=1)\n",
    "\n",
    "concat_bookings['all_books_Danland'] = last_travels_per_month_Danland.apply(is_in, args=('06',),axis=1)\n",
    "concat_bookings['last_travel_Danland'] = last_travels_per_month_Danland.apply(lambda x: x[-x.isna()][-1],axis=1)"
   ]
  },
  {
   "cell_type": "code",
   "execution_count": 12,
   "metadata": {},
   "outputs": [
    {
     "data": {
      "text/html": [
       "<div>\n",
       "<style scoped>\n",
       "    .dataframe tbody tr th:only-of-type {\n",
       "        vertical-align: middle;\n",
       "    }\n",
       "\n",
       "    .dataframe tbody tr th {\n",
       "        vertical-align: top;\n",
       "    }\n",
       "\n",
       "    .dataframe thead th {\n",
       "        text-align: right;\n",
       "    }\n",
       "</style>\n",
       "<table border=\"1\" class=\"dataframe\">\n",
       "  <thead>\n",
       "    <tr style=\"text-align: right;\">\n",
       "      <th></th>\n",
       "      <th>fast_book_last_travel_goal</th>\n",
       "      <th>fast_book_last_travel_month</th>\n",
       "      <th>fast_book_last_travel_people</th>\n",
       "      <th>fast_book_last_travel_price</th>\n",
       "      <th>fast_book_gesamt_count</th>\n",
       "      <th>fast_book_gesamt_goals</th>\n",
       "      <th>fast_book_gesamt_people</th>\n",
       "      <th>fast_book_gesamt_price</th>\n",
       "      <th>all_book_last_travel_goal</th>\n",
       "      <th>all_book_last_travel_month</th>\n",
       "      <th>...</th>\n",
       "      <th>all_book_gesamt_people</th>\n",
       "      <th>all_book_gesamt_price</th>\n",
       "      <th>all_books_dirIndir</th>\n",
       "      <th>last_travel_dirIndir</th>\n",
       "      <th>all_books_teuresHaus</th>\n",
       "      <th>last_travel_teuresHaus</th>\n",
       "      <th>all_books_teureBuchung</th>\n",
       "      <th>last_travel_teureBuchung</th>\n",
       "      <th>all_books_Danland</th>\n",
       "      <th>last_travel_Danland</th>\n",
       "    </tr>\n",
       "    <tr>\n",
       "      <th>E-Mail</th>\n",
       "      <th></th>\n",
       "      <th></th>\n",
       "      <th></th>\n",
       "      <th></th>\n",
       "      <th></th>\n",
       "      <th></th>\n",
       "      <th></th>\n",
       "      <th></th>\n",
       "      <th></th>\n",
       "      <th></th>\n",
       "      <th></th>\n",
       "      <th></th>\n",
       "      <th></th>\n",
       "      <th></th>\n",
       "      <th></th>\n",
       "      <th></th>\n",
       "      <th></th>\n",
       "      <th></th>\n",
       "      <th></th>\n",
       "      <th></th>\n",
       "      <th></th>\n",
       "    </tr>\n",
       "  </thead>\n",
       "  <tbody>\n",
       "    <tr>\n",
       "      <th>00anja00@gmx.de</th>\n",
       "      <td>71</td>\n",
       "      <td>2015/08</td>\n",
       "      <td>6</td>\n",
       "      <td>508</td>\n",
       "      <td>1</td>\n",
       "      <td>71</td>\n",
       "      <td>6</td>\n",
       "      <td>508</td>\n",
       "      <td>71</td>\n",
       "      <td>2015/08</td>\n",
       "      <td>...</td>\n",
       "      <td>6</td>\n",
       "      <td>508</td>\n",
       "      <td>n</td>\n",
       "      <td>Bur</td>\n",
       "      <td>n</td>\n",
       "      <td>n</td>\n",
       "      <td>n</td>\n",
       "      <td>n</td>\n",
       "      <td>n</td>\n",
       "      <td>DC</td>\n",
       "    </tr>\n",
       "    <tr>\n",
       "      <th>00lars@gmx.net</th>\n",
       "      <td>84</td>\n",
       "      <td>2016/03</td>\n",
       "      <td>5</td>\n",
       "      <td>321</td>\n",
       "      <td>1</td>\n",
       "      <td>84</td>\n",
       "      <td>5</td>\n",
       "      <td>321</td>\n",
       "      <td>84</td>\n",
       "      <td>2016/03</td>\n",
       "      <td>...</td>\n",
       "      <td>5</td>\n",
       "      <td>321</td>\n",
       "      <td>j</td>\n",
       "      <td>Dir</td>\n",
       "      <td>n</td>\n",
       "      <td>n</td>\n",
       "      <td>n</td>\n",
       "      <td>n</td>\n",
       "      <td>n</td>\n",
       "      <td>DC</td>\n",
       "    </tr>\n",
       "    <tr>\n",
       "      <th>00livia.werner@gmail.com</th>\n",
       "      <td>4</td>\n",
       "      <td>2017/10</td>\n",
       "      <td>5</td>\n",
       "      <td>394</td>\n",
       "      <td>1</td>\n",
       "      <td>4</td>\n",
       "      <td>5</td>\n",
       "      <td>394</td>\n",
       "      <td>4</td>\n",
       "      <td>2017/10</td>\n",
       "      <td>...</td>\n",
       "      <td>5</td>\n",
       "      <td>394</td>\n",
       "      <td>j</td>\n",
       "      <td>Dir</td>\n",
       "      <td>n</td>\n",
       "      <td>n</td>\n",
       "      <td>n</td>\n",
       "      <td>n</td>\n",
       "      <td>n</td>\n",
       "      <td>DC</td>\n",
       "    </tr>\n",
       "    <tr>\n",
       "      <th>00mail@gmx.de</th>\n",
       "      <td>31</td>\n",
       "      <td>2016/08</td>\n",
       "      <td>2</td>\n",
       "      <td>740</td>\n",
       "      <td>1</td>\n",
       "      <td>31</td>\n",
       "      <td>2</td>\n",
       "      <td>740</td>\n",
       "      <td>31</td>\n",
       "      <td>2016/08</td>\n",
       "      <td>...</td>\n",
       "      <td>2</td>\n",
       "      <td>740</td>\n",
       "      <td>j</td>\n",
       "      <td>Dir</td>\n",
       "      <td>n</td>\n",
       "      <td>n</td>\n",
       "      <td>n</td>\n",
       "      <td>n</td>\n",
       "      <td>n</td>\n",
       "      <td>DC</td>\n",
       "    </tr>\n",
       "    <tr>\n",
       "      <th>0123zaq@gmail.com</th>\n",
       "      <td>82</td>\n",
       "      <td>2017/08</td>\n",
       "      <td>3</td>\n",
       "      <td>486</td>\n",
       "      <td>1</td>\n",
       "      <td>82</td>\n",
       "      <td>3</td>\n",
       "      <td>486</td>\n",
       "      <td>82</td>\n",
       "      <td>2017/08</td>\n",
       "      <td>...</td>\n",
       "      <td>3</td>\n",
       "      <td>486</td>\n",
       "      <td>n</td>\n",
       "      <td>Bur</td>\n",
       "      <td>n</td>\n",
       "      <td>n</td>\n",
       "      <td>n</td>\n",
       "      <td>n</td>\n",
       "      <td>n</td>\n",
       "      <td>DC</td>\n",
       "    </tr>\n",
       "  </tbody>\n",
       "</table>\n",
       "<p>5 rows × 24 columns</p>\n",
       "</div>"
      ],
      "text/plain": [
       "                          fast_book_last_travel_goal  \\\n",
       "E-Mail                                                 \n",
       "00anja00@gmx.de                                   71   \n",
       "00lars@gmx.net                                    84   \n",
       "00livia.werner@gmail.com                           4   \n",
       "00mail@gmx.de                                     31   \n",
       "0123zaq@gmail.com                                 82   \n",
       "\n",
       "                         fast_book_last_travel_month  \\\n",
       "E-Mail                                                 \n",
       "00anja00@gmx.de                              2015/08   \n",
       "00lars@gmx.net                               2016/03   \n",
       "00livia.werner@gmail.com                     2017/10   \n",
       "00mail@gmx.de                                2016/08   \n",
       "0123zaq@gmail.com                            2017/08   \n",
       "\n",
       "                          fast_book_last_travel_people  \\\n",
       "E-Mail                                                   \n",
       "00anja00@gmx.de                                      6   \n",
       "00lars@gmx.net                                       5   \n",
       "00livia.werner@gmail.com                             5   \n",
       "00mail@gmx.de                                        2   \n",
       "0123zaq@gmail.com                                    3   \n",
       "\n",
       "                          fast_book_last_travel_price  fast_book_gesamt_count  \\\n",
       "E-Mail                                                                          \n",
       "00anja00@gmx.de                                   508                       1   \n",
       "00lars@gmx.net                                    321                       1   \n",
       "00livia.werner@gmail.com                          394                       1   \n",
       "00mail@gmx.de                                     740                       1   \n",
       "0123zaq@gmail.com                                 486                       1   \n",
       "\n",
       "                         fast_book_gesamt_goals fast_book_gesamt_people  \\\n",
       "E-Mail                                                                    \n",
       "00anja00@gmx.de                              71                       6   \n",
       "00lars@gmx.net                               84                       5   \n",
       "00livia.werner@gmail.com                      4                       5   \n",
       "00mail@gmx.de                                31                       2   \n",
       "0123zaq@gmail.com                            82                       3   \n",
       "\n",
       "                         fast_book_gesamt_price  all_book_last_travel_goal  \\\n",
       "E-Mail                                                                       \n",
       "00anja00@gmx.de                             508                         71   \n",
       "00lars@gmx.net                              321                         84   \n",
       "00livia.werner@gmail.com                    394                          4   \n",
       "00mail@gmx.de                               740                         31   \n",
       "0123zaq@gmail.com                           486                         82   \n",
       "\n",
       "                         all_book_last_travel_month         ...          \\\n",
       "E-Mail                                                      ...           \n",
       "00anja00@gmx.de                             2015/08         ...           \n",
       "00lars@gmx.net                              2016/03         ...           \n",
       "00livia.werner@gmail.com                    2017/10         ...           \n",
       "00mail@gmx.de                               2016/08         ...           \n",
       "0123zaq@gmail.com                           2017/08         ...           \n",
       "\n",
       "                          all_book_gesamt_people  all_book_gesamt_price  \\\n",
       "E-Mail                                                                    \n",
       "00anja00@gmx.de                                6                    508   \n",
       "00lars@gmx.net                                 5                    321   \n",
       "00livia.werner@gmail.com                       5                    394   \n",
       "00mail@gmx.de                                  2                    740   \n",
       "0123zaq@gmail.com                              3                    486   \n",
       "\n",
       "                          all_books_dirIndir last_travel_dirIndir  \\\n",
       "E-Mail                                                              \n",
       "00anja00@gmx.de                            n                  Bur   \n",
       "00lars@gmx.net                             j                  Dir   \n",
       "00livia.werner@gmail.com                   j                  Dir   \n",
       "00mail@gmx.de                              j                  Dir   \n",
       "0123zaq@gmail.com                          n                  Bur   \n",
       "\n",
       "                         all_books_teuresHaus last_travel_teuresHaus  \\\n",
       "E-Mail                                                                 \n",
       "00anja00@gmx.de                             n                      n   \n",
       "00lars@gmx.net                              n                      n   \n",
       "00livia.werner@gmail.com                    n                      n   \n",
       "00mail@gmx.de                               n                      n   \n",
       "0123zaq@gmail.com                           n                      n   \n",
       "\n",
       "                         all_books_teureBuchung last_travel_teureBuchung  \\\n",
       "E-Mail                                                                     \n",
       "00anja00@gmx.de                               n                        n   \n",
       "00lars@gmx.net                                n                        n   \n",
       "00livia.werner@gmail.com                      n                        n   \n",
       "00mail@gmx.de                                 n                        n   \n",
       "0123zaq@gmail.com                             n                        n   \n",
       "\n",
       "                         all_books_Danland last_travel_Danland  \n",
       "E-Mail                                                          \n",
       "00anja00@gmx.de                          n                  DC  \n",
       "00lars@gmx.net                           n                  DC  \n",
       "00livia.werner@gmail.com                 n                  DC  \n",
       "00mail@gmx.de                            n                  DC  \n",
       "0123zaq@gmail.com                        n                  DC  \n",
       "\n",
       "[5 rows x 24 columns]"
      ]
     },
     "execution_count": 12,
     "metadata": {},
     "output_type": "execute_result"
    }
   ],
   "source": [
    "concat_bookings.head()"
   ]
  },
  {
   "cell_type": "code",
   "execution_count": 15,
   "metadata": {},
   "outputs": [
    {
     "data": {
      "text/plain": [
       "array(['fast_book_last_travel_goal', 'fast_book_last_travel_month',\n",
       "       'fast_book_last_travel_people', 'fast_book_last_travel_price',\n",
       "       'fast_book_gesamt_count', 'fast_book_gesamt_goals',\n",
       "       'fast_book_gesamt_people', 'fast_book_gesamt_price',\n",
       "       'fast_book_gesamt_month',\n",
       "       'fast_book_gesamt_timespan_btw_book_travel',\n",
       "       'all_book_last_travel_goal', 'all_book_last_travel_month',\n",
       "       'all_book_last_travel_people', 'all_book_last_travel_price',\n",
       "       'all_book_gesamt_count', 'all_book_gesamt_goals',\n",
       "       'all_book_gesamt_people', 'all_book_gesamt_price',\n",
       "       'all_books_dirIndir', 'last_travel_dirIndir',\n",
       "       'all_books_teuresHaus', 'last_travel_teuresHaus',\n",
       "       'all_books_teureBuchung', 'last_travel_teureBuchung',\n",
       "       'all_books_Danland', 'last_travel_Danland'], dtype=object)"
      ]
     },
     "execution_count": 15,
     "metadata": {},
     "output_type": "execute_result"
    }
   ],
   "source": [
    "concat_bookings.columns.values"
   ]
  },
  {
   "cell_type": "markdown",
   "metadata": {},
   "source": [
    "### Make Columns nice"
   ]
  },
  {
   "cell_type": "code",
   "execution_count": 16,
   "metadata": {},
   "outputs": [],
   "source": [
    "concat_bookings.loc[concat_bookings['last_travel_dirIndir']=='Dir','last_travel_dirIndir']='j'\n",
    "concat_bookings.loc[concat_bookings['last_travel_dirIndir']=='Bur','last_travel_dirIndir']='n'\n",
    "\n",
    "concat_bookings.loc[concat_bookings['last_travel_Danland']!='DC','last_travel_Danland']='j'\n",
    "concat_bookings.loc[concat_bookings['last_travel_Danland']=='DC','last_travel_Danland']='n'"
   ]
  },
  {
   "cell_type": "code",
   "execution_count": 17,
   "metadata": {},
   "outputs": [],
   "source": [
    "concat_bookings.columns = ['letzte_Kurzbuchung_Ziel', \n",
    "                           'letzte_Kurzbuchung_Monat',\n",
    "                           'letzte_Kurzbuchung_Personen', \n",
    "                           'letzte_Kurzbuchung_Preis',\n",
    "                           'Kurzbuchungen_gesamt_Anzahl', \n",
    "                           'Kurzbuchungen_gesamt_Ziele',\n",
    "                           'Kurzbuchungen_gesamt_Personen', \n",
    "                           'Kurzbuchungen_gesamt_Preise',\n",
    "                           'Kurzbuchungen_gesamt_Monate',\n",
    "                           'Kurzbuchungen_gesamt_Tage_zw_Buchung_Anreise',\n",
    "                           'letzte_Buchung_Ziel', \n",
    "                           'letzte_Buchung_Monat',\n",
    "                           'letzte_Buchung_Personen', \n",
    "                           'letzte_Buchung_Preis',\n",
    "                           'alle_Buchungen_Anzahl', \n",
    "                           'alle_Buchungen_Ziele',\n",
    "                           'alle_Buchungen_Personen', \n",
    "                           'alle_Buchungen_Preise',\n",
    "                           'jemals_direkt_gebucht', \n",
    "                           'letzte_Buchung_direkt_gebucht',\n",
    "                           'jemals_teures_Haus', \n",
    "                           'letzte_Buchung_teures_Haus',\n",
    "                           'jemals_teure_Buchung', \n",
    "                           'letzte_Buchung_teure_Buchung',\n",
    "                           'jemals_Danland', \n",
    "                           'letzte_Buchung_Danland']"
   ]
  },
  {
   "cell_type": "code",
   "execution_count": 28,
   "metadata": {},
   "outputs": [],
   "source": [
    "# transform some values to int\n",
    "concat_bookings[['letzte_Kurzbuchung_Ziel','letzte_Kurzbuchung_Personen','letzte_Kurzbuchung_Preis',\n",
    "                'letzte_Buchung_Ziel','letzte_Buchung_Personen', 'letzte_Buchung_Preis','alle_Buchungen_Anzahl',\n",
    "                'Kurzbuchungen_gesamt_Anzahl']] =concat_bookings[['letzte_Kurzbuchung_Ziel','letzte_Kurzbuchung_Personen','letzte_Kurzbuchung_Preis',\n",
    "                'letzte_Buchung_Ziel','letzte_Buchung_Personen', 'letzte_Buchung_Preis','alle_Buchungen_Anzahl',\n",
    "                'Kurzbuchungen_gesamt_Anzahl']].astype(int)"
   ]
  },
  {
   "cell_type": "markdown",
   "metadata": {},
   "source": [
    "### Expand columns with comma separated values in several columns"
   ]
  },
  {
   "cell_type": "code",
   "execution_count": 21,
   "metadata": {},
   "outputs": [
    {
     "data": {
      "text/plain": [
       "17"
      ]
     },
     "execution_count": 21,
     "metadata": {},
     "output_type": "execute_result"
    }
   ],
   "source": [
    "# Kurzbuchungen with most bookings: 17 \n",
    "concat_bookings['Kurzbuchungen_gesamt_Ziele'].apply(lambda x: x.split(',')).apply(lambda x: len(x)).max()"
   ]
  },
  {
   "cell_type": "code",
   "execution_count": 27,
   "metadata": {},
   "outputs": [
    {
     "name": "stdout",
     "output_type": "stream",
     "text": [
      "Norwegen\n",
      "Ostnorwegen\n"
     ]
    }
   ],
   "source": [
    "# Helper function to find associated key from value in dictionary\n",
    "def find_key(x, dict_):\n",
    "    for ind, val in enumerate(list(dict_.values())):\n",
    "        if (~np.isnan(x) and (x in val)):\n",
    "            return list(dict_.keys())[ind]\n",
    "        \n",
    "print(find_key(13, country))\n",
    "print(find_key(13, area))"
   ]
  },
  {
   "cell_type": "code",
   "execution_count": 24,
   "metadata": {},
   "outputs": [],
   "source": [
    "# make new columns + fill new columns\n",
    "for i in range(17):\n",
    "    \n",
    "    country_ = 'Land_'+ str(i+1).zfill(2)\n",
    "    area_ = 'Gegend_'+ str(i+1).zfill(2)\n",
    "    time_span = 'Abstand_zw_Buchung_Reise_' + str(i+1).zfill(2)\n",
    "    month = 'Monat_der_Reise_' + str(i+1).zfill(2)\n",
    "    \n",
    "    concat_bookings[country_] = concat_bookings['Kurzbuchungen_gesamt_Ziele'].apply(\n",
    "                                    lambda x: int(x.split(',')[i]) if (len(x.split(','))>i) else np.nan)\n",
    "    concat_bookings[area_] = concat_bookings['Kurzbuchungen_gesamt_Ziele'].apply(\n",
    "                                    lambda x: int(x.split(',')[i]) if (len(x.split(','))>i) else np.nan)\n",
    "    \n",
    "    # print country for corresponding area-code using dictionary\n",
    "    concat_bookings[country_] = concat_bookings[country_].apply(find_key,args=(country,))\n",
    "    \n",
    "    # print area for corresponding area-code using dictionary\n",
    "    concat_bookings[area_] = concat_bookings[area_].apply(find_key,args=(area,))\n",
    "        \n",
    "    concat_bookings[time_span] = concat_bookings['Kurzbuchungen_gesamt_Tage_zw_Buchung_Anreise'].apply(\n",
    "                                    lambda x: int(x.split(',')[i]) if (len(x.split(','))>i) else np.nan)\n",
    "    concat_bookings[month] = concat_bookings['Kurzbuchungen_gesamt_Monate'].apply(\n",
    "                                    lambda x: x.split(',')[i] if (len(x.split(','))>i) else np.nan)\n",
    "    \n",
    "    "
   ]
  },
  {
   "cell_type": "code",
   "execution_count": 25,
   "metadata": {},
   "outputs": [
    {
     "data": {
      "text/html": [
       "<div>\n",
       "<style scoped>\n",
       "    .dataframe tbody tr th:only-of-type {\n",
       "        vertical-align: middle;\n",
       "    }\n",
       "\n",
       "    .dataframe tbody tr th {\n",
       "        vertical-align: top;\n",
       "    }\n",
       "\n",
       "    .dataframe thead th {\n",
       "        text-align: right;\n",
       "    }\n",
       "</style>\n",
       "<table border=\"1\" class=\"dataframe\">\n",
       "  <thead>\n",
       "    <tr style=\"text-align: right;\">\n",
       "      <th></th>\n",
       "      <th>letzte_Kurzbuchung_Ziel</th>\n",
       "      <th>letzte_Kurzbuchung_Monat</th>\n",
       "      <th>letzte_Kurzbuchung_Personen</th>\n",
       "      <th>letzte_Kurzbuchung_Preis</th>\n",
       "      <th>Kurzbuchungen_gesamt_Anzahl</th>\n",
       "      <th>Kurzbuchungen_gesamt_Ziele</th>\n",
       "      <th>Kurzbuchungen_gesamt_Personen</th>\n",
       "      <th>Kurzbuchungen_gesamt_Preise</th>\n",
       "      <th>letzte_Buchung_Ziel</th>\n",
       "      <th>letzte_Buchung_Monat</th>\n",
       "      <th>...</th>\n",
       "      <th>Abstand_zw_Buchung_Reise_15</th>\n",
       "      <th>Monat_der_Reise_15</th>\n",
       "      <th>Land_16</th>\n",
       "      <th>Gegend_16</th>\n",
       "      <th>Abstand_zw_Buchung_Reise_16</th>\n",
       "      <th>Monat_der_Reise_16</th>\n",
       "      <th>Land_17</th>\n",
       "      <th>Gegend_17</th>\n",
       "      <th>Abstand_zw_Buchung_Reise_17</th>\n",
       "      <th>Monat_der_Reise_17</th>\n",
       "    </tr>\n",
       "    <tr>\n",
       "      <th>E-Mail</th>\n",
       "      <th></th>\n",
       "      <th></th>\n",
       "      <th></th>\n",
       "      <th></th>\n",
       "      <th></th>\n",
       "      <th></th>\n",
       "      <th></th>\n",
       "      <th></th>\n",
       "      <th></th>\n",
       "      <th></th>\n",
       "      <th></th>\n",
       "      <th></th>\n",
       "      <th></th>\n",
       "      <th></th>\n",
       "      <th></th>\n",
       "      <th></th>\n",
       "      <th></th>\n",
       "      <th></th>\n",
       "      <th></th>\n",
       "      <th></th>\n",
       "      <th></th>\n",
       "    </tr>\n",
       "  </thead>\n",
       "  <tbody>\n",
       "    <tr>\n",
       "      <th>00anja00@gmx.de</th>\n",
       "      <td>71</td>\n",
       "      <td>2015/08</td>\n",
       "      <td>6</td>\n",
       "      <td>508</td>\n",
       "      <td>1</td>\n",
       "      <td>71</td>\n",
       "      <td>6</td>\n",
       "      <td>508</td>\n",
       "      <td>71</td>\n",
       "      <td>2015/08</td>\n",
       "      <td>...</td>\n",
       "      <td>NaN</td>\n",
       "      <td>NaN</td>\n",
       "      <td>None</td>\n",
       "      <td>None</td>\n",
       "      <td>NaN</td>\n",
       "      <td>NaN</td>\n",
       "      <td>None</td>\n",
       "      <td>None</td>\n",
       "      <td>NaN</td>\n",
       "      <td>NaN</td>\n",
       "    </tr>\n",
       "    <tr>\n",
       "      <th>00lars@gmx.net</th>\n",
       "      <td>84</td>\n",
       "      <td>2016/03</td>\n",
       "      <td>5</td>\n",
       "      <td>321</td>\n",
       "      <td>1</td>\n",
       "      <td>84</td>\n",
       "      <td>5</td>\n",
       "      <td>321</td>\n",
       "      <td>84</td>\n",
       "      <td>2016/03</td>\n",
       "      <td>...</td>\n",
       "      <td>NaN</td>\n",
       "      <td>NaN</td>\n",
       "      <td>None</td>\n",
       "      <td>None</td>\n",
       "      <td>NaN</td>\n",
       "      <td>NaN</td>\n",
       "      <td>None</td>\n",
       "      <td>None</td>\n",
       "      <td>NaN</td>\n",
       "      <td>NaN</td>\n",
       "    </tr>\n",
       "    <tr>\n",
       "      <th>00livia.werner@gmail.com</th>\n",
       "      <td>4</td>\n",
       "      <td>2017/10</td>\n",
       "      <td>5</td>\n",
       "      <td>394</td>\n",
       "      <td>1</td>\n",
       "      <td>4</td>\n",
       "      <td>5</td>\n",
       "      <td>394</td>\n",
       "      <td>4</td>\n",
       "      <td>2017/10</td>\n",
       "      <td>...</td>\n",
       "      <td>NaN</td>\n",
       "      <td>NaN</td>\n",
       "      <td>None</td>\n",
       "      <td>None</td>\n",
       "      <td>NaN</td>\n",
       "      <td>NaN</td>\n",
       "      <td>None</td>\n",
       "      <td>None</td>\n",
       "      <td>NaN</td>\n",
       "      <td>NaN</td>\n",
       "    </tr>\n",
       "    <tr>\n",
       "      <th>00mail@gmx.de</th>\n",
       "      <td>31</td>\n",
       "      <td>2016/08</td>\n",
       "      <td>2</td>\n",
       "      <td>740</td>\n",
       "      <td>1</td>\n",
       "      <td>31</td>\n",
       "      <td>2</td>\n",
       "      <td>740</td>\n",
       "      <td>31</td>\n",
       "      <td>2016/08</td>\n",
       "      <td>...</td>\n",
       "      <td>NaN</td>\n",
       "      <td>NaN</td>\n",
       "      <td>None</td>\n",
       "      <td>None</td>\n",
       "      <td>NaN</td>\n",
       "      <td>NaN</td>\n",
       "      <td>None</td>\n",
       "      <td>None</td>\n",
       "      <td>NaN</td>\n",
       "      <td>NaN</td>\n",
       "    </tr>\n",
       "    <tr>\n",
       "      <th>0123zaq@gmail.com</th>\n",
       "      <td>82</td>\n",
       "      <td>2017/08</td>\n",
       "      <td>3</td>\n",
       "      <td>486</td>\n",
       "      <td>1</td>\n",
       "      <td>82</td>\n",
       "      <td>3</td>\n",
       "      <td>486</td>\n",
       "      <td>82</td>\n",
       "      <td>2017/08</td>\n",
       "      <td>...</td>\n",
       "      <td>NaN</td>\n",
       "      <td>NaN</td>\n",
       "      <td>None</td>\n",
       "      <td>None</td>\n",
       "      <td>NaN</td>\n",
       "      <td>NaN</td>\n",
       "      <td>None</td>\n",
       "      <td>None</td>\n",
       "      <td>NaN</td>\n",
       "      <td>NaN</td>\n",
       "    </tr>\n",
       "  </tbody>\n",
       "</table>\n",
       "<p>5 rows × 92 columns</p>\n",
       "</div>"
      ],
      "text/plain": [
       "                          letzte_Kurzbuchung_Ziel letzte_Kurzbuchung_Monat  \\\n",
       "E-Mail                                                                       \n",
       "00anja00@gmx.de                                71                  2015/08   \n",
       "00lars@gmx.net                                 84                  2016/03   \n",
       "00livia.werner@gmail.com                        4                  2017/10   \n",
       "00mail@gmx.de                                  31                  2016/08   \n",
       "0123zaq@gmail.com                              82                  2017/08   \n",
       "\n",
       "                          letzte_Kurzbuchung_Personen  \\\n",
       "E-Mail                                                  \n",
       "00anja00@gmx.de                                     6   \n",
       "00lars@gmx.net                                      5   \n",
       "00livia.werner@gmail.com                            5   \n",
       "00mail@gmx.de                                       2   \n",
       "0123zaq@gmail.com                                   3   \n",
       "\n",
       "                          letzte_Kurzbuchung_Preis  \\\n",
       "E-Mail                                               \n",
       "00anja00@gmx.de                                508   \n",
       "00lars@gmx.net                                 321   \n",
       "00livia.werner@gmail.com                       394   \n",
       "00mail@gmx.de                                  740   \n",
       "0123zaq@gmail.com                              486   \n",
       "\n",
       "                          Kurzbuchungen_gesamt_Anzahl  \\\n",
       "E-Mail                                                  \n",
       "00anja00@gmx.de                                     1   \n",
       "00lars@gmx.net                                      1   \n",
       "00livia.werner@gmail.com                            1   \n",
       "00mail@gmx.de                                       1   \n",
       "0123zaq@gmail.com                                   1   \n",
       "\n",
       "                         Kurzbuchungen_gesamt_Ziele  \\\n",
       "E-Mail                                                \n",
       "00anja00@gmx.de                                  71   \n",
       "00lars@gmx.net                                   84   \n",
       "00livia.werner@gmail.com                          4   \n",
       "00mail@gmx.de                                    31   \n",
       "0123zaq@gmail.com                                82   \n",
       "\n",
       "                         Kurzbuchungen_gesamt_Personen  \\\n",
       "E-Mail                                                   \n",
       "00anja00@gmx.de                                      6   \n",
       "00lars@gmx.net                                       5   \n",
       "00livia.werner@gmail.com                             5   \n",
       "00mail@gmx.de                                        2   \n",
       "0123zaq@gmail.com                                    3   \n",
       "\n",
       "                         Kurzbuchungen_gesamt_Preise  letzte_Buchung_Ziel  \\\n",
       "E-Mail                                                                      \n",
       "00anja00@gmx.de                                  508                   71   \n",
       "00lars@gmx.net                                   321                   84   \n",
       "00livia.werner@gmail.com                         394                    4   \n",
       "00mail@gmx.de                                    740                   31   \n",
       "0123zaq@gmail.com                                486                   82   \n",
       "\n",
       "                         letzte_Buchung_Monat        ...          \\\n",
       "E-Mail                                               ...           \n",
       "00anja00@gmx.de                       2015/08        ...           \n",
       "00lars@gmx.net                        2016/03        ...           \n",
       "00livia.werner@gmail.com              2017/10        ...           \n",
       "00mail@gmx.de                         2016/08        ...           \n",
       "0123zaq@gmail.com                     2017/08        ...           \n",
       "\n",
       "                          Abstand_zw_Buchung_Reise_15  Monat_der_Reise_15  \\\n",
       "E-Mail                                                                      \n",
       "00anja00@gmx.de                                   NaN                 NaN   \n",
       "00lars@gmx.net                                    NaN                 NaN   \n",
       "00livia.werner@gmail.com                          NaN                 NaN   \n",
       "00mail@gmx.de                                     NaN                 NaN   \n",
       "0123zaq@gmail.com                                 NaN                 NaN   \n",
       "\n",
       "                          Land_16 Gegend_16 Abstand_zw_Buchung_Reise_16  \\\n",
       "E-Mail                                                                    \n",
       "00anja00@gmx.de              None      None                         NaN   \n",
       "00lars@gmx.net               None      None                         NaN   \n",
       "00livia.werner@gmail.com     None      None                         NaN   \n",
       "00mail@gmx.de                None      None                         NaN   \n",
       "0123zaq@gmail.com            None      None                         NaN   \n",
       "\n",
       "                         Monat_der_Reise_16 Land_17 Gegend_17  \\\n",
       "E-Mail                                                          \n",
       "00anja00@gmx.de                         NaN    None      None   \n",
       "00lars@gmx.net                          NaN    None      None   \n",
       "00livia.werner@gmail.com                NaN    None      None   \n",
       "00mail@gmx.de                           NaN    None      None   \n",
       "0123zaq@gmail.com                       NaN    None      None   \n",
       "\n",
       "                         Abstand_zw_Buchung_Reise_17 Monat_der_Reise_17  \n",
       "E-Mail                                                                   \n",
       "00anja00@gmx.de                                  NaN                NaN  \n",
       "00lars@gmx.net                                   NaN                NaN  \n",
       "00livia.werner@gmail.com                         NaN                NaN  \n",
       "00mail@gmx.de                                    NaN                NaN  \n",
       "0123zaq@gmail.com                                NaN                NaN  \n",
       "\n",
       "[5 rows x 92 columns]"
      ]
     },
     "execution_count": 25,
     "metadata": {},
     "output_type": "execute_result"
    }
   ],
   "source": [
    "concat_bookings.head()"
   ]
  },
  {
   "cell_type": "markdown",
   "metadata": {},
   "source": [
    "### Export Data to csv "
   ]
  },
  {
   "cell_type": "markdown",
   "metadata": {
    "collapsed": true
   },
   "source": [
    "Excel-Export funktioniert nicht"
   ]
  },
  {
   "cell_type": "code",
   "execution_count": 25,
   "metadata": {},
   "outputs": [],
   "source": [
    "concat_bookings.to_csv('Kurzbucher.csv')"
   ]
  }
 ],
 "metadata": {
  "kernelspec": {
   "display_name": "Python 3",
   "language": "python",
   "name": "python3"
  },
  "language_info": {
   "codemirror_mode": {
    "name": "ipython",
    "version": 3
   },
   "file_extension": ".py",
   "mimetype": "text/x-python",
   "name": "python",
   "nbconvert_exporter": "python",
   "pygments_lexer": "ipython3",
   "version": "3.6.5"
  }
 },
 "nbformat": 4,
 "nbformat_minor": 2
}
