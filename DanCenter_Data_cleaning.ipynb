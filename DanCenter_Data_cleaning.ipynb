{
 "cells": [
  {
   "cell_type": "markdown",
   "metadata": {},
   "source": [
    "## Preparation"
   ]
  },
  {
   "cell_type": "code",
   "execution_count": 1,
   "metadata": {},
   "outputs": [
    {
     "name": "stdout",
     "output_type": "stream",
     "text": [
      "Populating the interactive namespace from numpy and matplotlib\n"
     ]
    }
   ],
   "source": [
    "import pandas as pd\n",
    "import re\n",
    "%pylab inline"
   ]
  },
  {
   "cell_type": "markdown",
   "metadata": {},
   "source": [
    "## Load Data"
   ]
  },
  {
   "cell_type": "code",
   "execution_count": 2,
   "metadata": {},
   "outputs": [],
   "source": [
    "dateparser = lambda x: pd.datetime.strptime(x, '%Y%m%d')\n",
    "\n",
    "dat = pd.read_csv('Daten Saison 15-18 Vers. 3 - ohne Interhome.csv',sep=';',\n",
    "                  dtype={'Saison':np.int32,'Buchungsnummer':np.int32,'PLZ':np.str},\n",
    "                 parse_dates = ['Buchungsdatum','Anreise','Abreise'],\n",
    "                 date_parser=dateparser,\n",
    "                 low_memory=False)"
   ]
  },
  {
   "cell_type": "code",
   "execution_count": 3,
   "metadata": {},
   "outputs": [
    {
     "name": "stdout",
     "output_type": "stream",
     "text": [
      "<class 'pandas.core.frame.DataFrame'>\n",
      "RangeIndex: 183511 entries, 0 to 183510\n",
      "Data columns (total 31 columns):\n",
      "Kundenname                  183511 non-null object\n",
      "Kundenname Zeile 2          1980 non-null object\n",
      "Adresse                     181558 non-null object\n",
      "Adresse Zeile 2             6824 non-null object\n",
      "Kundennation                183510 non-null object\n",
      "PLZ                         183438 non-null object\n",
      "Stadt                       181503 non-null object\n",
      "Bundesland                  183511 non-null object\n",
      "Telefon                     178322 non-null object\n",
      "E-Mail                      167523 non-null object\n",
      "Personen                    183511 non-null int64\n",
      "Newsletter ja/nein          183510 non-null object\n",
      "Brand                       183511 non-null object\n",
      "Hausnummer                  183511 non-null int64\n",
      "Produkttyp                  183511 non-null object\n",
      "Haustier ja/nein            183511 non-null int64\n",
      "Hausnation                  183511 non-null object\n",
      "Hausgebiet                  183511 non-null int64\n",
      "Preistyp                    183511 non-null object\n",
      "Endreinigung ja/nein        183511 non-null object\n",
      "Versicherung ja/nein        52664 non-null object\n",
      "Saison                      183511 non-null int32\n",
      "Buchungsnummer              183511 non-null int32\n",
      "Währung                     183511 non-null object\n",
      "Mietpreis                   183511 non-null object\n",
      "Buchungsdatum               183511 non-null datetime64[ns]\n",
      "Buchung: direkt/indirekt    183511 non-null object\n",
      "Verkaufskanal               183511 non-null object\n",
      "Anreise                     183511 non-null datetime64[ns]\n",
      "Abreise                     183511 non-null datetime64[ns]\n",
      "Zahlungsart                 183511 non-null object\n",
      "dtypes: datetime64[ns](3), int32(2), int64(4), object(22)\n",
      "memory usage: 42.0+ MB\n"
     ]
    }
   ],
   "source": [
    "dat.info()"
   ]
  },
  {
   "cell_type": "markdown",
   "metadata": {},
   "source": [
    "## Data Cleaning"
   ]
  },
  {
   "cell_type": "code",
   "execution_count": null,
   "metadata": {},
   "outputs": [],
   "source": [
    "area = {'Nordsee - DK':[80,81,82,83,84,85,88,89,77],\n",
    "        'Ostsee und Landesinnere': [71,72,73,74,75,76,78,61,62,63],\n",
    "        'Inseln': [51,52,41,42,43,44,45,46,47,48,49,31],\n",
    "        'Nordsee - DE':[2],\n",
    "        'Ostsee - DE':[4],\n",
    "        'Sued- und Fjordnorwegen':[17,18,19,20,21,22,23],\n",
    "        'Mittelnorwegen': [24,25],\n",
    "        'Ostnorwegen':[11,12,13,14,15],\n",
    "        'Nordnorwegen':[26,27,28],\n",
    "        'Sued- und Westschweden':[90,91,93],\n",
    "        'Nord- und Mittelschweden':[95,96],\n",
    "         'not assigned': [30,34,94]}\n",
    "\n",
    "country = {'Daenemark': area['Nordsee - DK']+area['Ostsee und Landesinnere'] + area['Inseln'],\n",
    "           'Deutschland':area['Nordsee - DE']+area['Ostsee - DE'],\n",
    "           'Norwegen': area['Sued- und Fjordnorwegen']+area['Mittelnorwegen']+\n",
    "                       area['Ostnorwegen']+area['Nordnorwegen'],\n",
    "           'Schweden': area['Sued- und Westschweden']+area['Nord- und Mittelschweden'],\n",
    "           'not assigned': area['not assigned']}\n",
    "\n",
    "def find_key(x, dict_):\n",
    "    for ind, val in enumerate(list(dict_.values())):\n",
    "        if (~np.isnan(x) and (x in val)):\n",
    "            return list(dict_.keys())[ind]"
   ]
  },
  {
   "cell_type": "markdown",
   "metadata": {},
   "source": [
    "#### New columns"
   ]
  },
  {
   "cell_type": "code",
   "execution_count": 4,
   "metadata": {},
   "outputs": [],
   "source": [
    "# time between boking and travlling in days\n",
    "dat['time_btw_book_travel_days'] = (dat['Anreise']-dat['Buchungsdatum'])/ np.timedelta64(1, 'D')\n",
    "\n",
    "# length of travel\n",
    "dat['length_travel'] = (dat['Abreise'] - dat['Anreise'])/np.timedelta64(1,'D')\n",
    "\n",
    "# month of travelling\n",
    "dat['month_of_travel'] = dat['Anreise'].apply(lambda x: x.month)\n",
    "\n",
    "\n",
    "\n",
    "# Mietpreis in Euro\n",
    "def price_handling(price):\n",
    "    price = str(price)\n",
    "    price_sep = price.split(',')\n",
    "    return float(price_sep[0])\n",
    "\n",
    "dat['Mietpreis'] = dat['Mietpreis'].apply(price_handling)\n",
    "\n",
    "dat['Mietpreis_Euro'] = dat['Mietpreis'].astype(int32)\n",
    "# DKR Umrechungskurs: 1 DKR = 0,134 Euro\n",
    "dat.loc[dat['Währung']=='DKR','Mietpreis_Euro'] =  round(0.134*dat.loc[dat['Währung']=='DKR','Mietpreis']) \n",
    "# NKR Umrechungskurs: 1 DKR = 0,1053 Euro\n",
    "dat.loc[dat['Währung']=='NKR','Mietpreis_Euro'] =  round(0.1053*dat.loc[dat['Währung']=='NKR','Mietpreis']) \n",
    "# SKR Umrechungskurs: 1 SKR = 0,09742 Euro\n",
    "dat.loc[dat['Währung']=='SKR','Mietpreis_Euro'] =  round(0.09742*dat.loc[dat['Währung']=='SKR','Mietpreis']) \n",
    "\n",
    "# teures Haus = Personen >= 12 Leute + Pool\n",
    "dat['teures_Haus'] = 'n'\n",
    "dat.loc[(dat['Personen']>=12) & (dat['Produkttyp']=='1-Pool'),'teures_Haus'] = 'j'\n",
    "\n",
    "# teure Buchung = innerhalb der 25% teuersten Buchungen\n",
    "dat['teure_Buchung'] = 'n'\n",
    "dat.loc[dat['Mietpreis_Euro']>=1167,'teure_Buchung'] = 'j'"
   ]
  },
  {
   "cell_type": "code",
   "execution_count": 5,
   "metadata": {},
   "outputs": [
    {
     "data": {
      "text/plain": [
       "count    183511.000000\n",
       "mean        931.691179\n",
       "std         673.403702\n",
       "min           0.000000\n",
       "25%         480.000000\n",
       "50%         734.000000\n",
       "75%        1167.000000\n",
       "max       10914.000000\n",
       "Name: Mietpreis_Euro, dtype: float64"
      ]
     },
     "execution_count": 5,
     "metadata": {},
     "output_type": "execute_result"
    }
   ],
   "source": [
    "dat['Mietpreis_Euro'].describe()"
   ]
  },
  {
   "cell_type": "code",
   "execution_count": 6,
   "metadata": {},
   "outputs": [
    {
     "name": "stdout",
     "output_type": "stream",
     "text": [
      "0.02484319741050945\n",
      "0.2502465792241337\n"
     ]
    }
   ],
   "source": [
    "print(sum(dat['teures_Haus'] =='j')/dat.shape[0])\n",
    "print(sum(dat['teure_Buchung'] == 'j')/dat.shape[0])"
   ]
  },
  {
   "cell_type": "code",
   "execution_count": 7,
   "metadata": {},
   "outputs": [],
   "source": [
    "def date_handling(date):\n",
    "    return str(date.year) + '/' + str(date.month).zfill(2)\n",
    "\n",
    "dat['Anreise_month'] = dat['Anreise'].apply(date_handling)"
   ]
  },
  {
   "cell_type": "markdown",
   "metadata": {},
   "source": [
    "#### Phone number handling"
   ]
  },
  {
   "cell_type": "code",
   "execution_count": 8,
   "metadata": {},
   "outputs": [],
   "source": [
    "def phone_handling(phone):\n",
    "    phone = str(phone)\n",
    "    regex = re.compile('[^a-zA-Z0-9]')\n",
    "    phone = regex.sub('',phone)\n",
    "    \n",
    "    if len(phone) < 5:\n",
    "        return '0000'\n",
    "    \n",
    "    \n",
    "    if (phone[0] == '4') & (phone[1] == '9'):\n",
    "        phone = phone[2:]\n",
    "    \n",
    "    if phone[0] == '0':\n",
    "        phone = phone[1:]\n",
    "    \n",
    "    return phone\n",
    "\n",
    "dat['Telefon'] = dat['Telefon'].apply(phone_handling)"
   ]
  },
  {
   "cell_type": "markdown",
   "metadata": {},
   "source": [
    "#### E-mail"
   ]
  },
  {
   "cell_type": "code",
   "execution_count": 9,
   "metadata": {},
   "outputs": [],
   "source": [
    "def email_handling(email):\n",
    "    email = str(email)\n",
    "    email = email.lower()\n",
    "    email = email.strip()\n",
    "    \n",
    "    if ('@' not in email) | ('.' not in email) :\n",
    "        email = '0000'\n",
    "    return email\n",
    "\n",
    "dat['E-Mail '] = dat['E-Mail '].apply(email_handling)"
   ]
  },
  {
   "cell_type": "markdown",
   "metadata": {},
   "source": [
    "#### Kundenname"
   ]
  },
  {
   "cell_type": "code",
   "execution_count": 10,
   "metadata": {},
   "outputs": [],
   "source": [
    "def name_handling_firstname(name):\n",
    "    name = str(name)\n",
    "    name =  name.lower()\n",
    "    \n",
    "    komma1_split = name.split(', ')\n",
    "    komma2_split = name.split(',')\n",
    "    slash_split = name.split('/')\n",
    "    doublespace_split = name.split('  ')\n",
    "    space_split = name.split(' ')\n",
    "    \n",
    "    if len(komma1_split)>1:\n",
    "        return komma1_split[-1]\n",
    "    if len(komma2_split)>1:\n",
    "        return komma2_split[-1]\n",
    "    if len(slash_split)>1:\n",
    "        return slash_split[-1]\n",
    "    if len(doublespace_split)>1:\n",
    "        return doublespace_split[-1]\n",
    "        \n",
    "    return space_split[0]\n",
    "\n",
    "def name_handling_lastname(name):\n",
    "    name = str(name)\n",
    "    name =  name.lower()\n",
    "    \n",
    "    komma1_split = name.split(', ')\n",
    "    komma2_split = name.split(',')\n",
    "    slash_split = name.split('/')\n",
    "    doublespace_split = name.split('  ')\n",
    "    space_split = name.split(' ')\n",
    "    \n",
    "    if len(komma1_split)>1:\n",
    "        return komma1_split[0]\n",
    "    if len(komma2_split)>1:\n",
    "        return komma2_split[0]\n",
    "    if len(slash_split)>1:\n",
    "        return slash_split[0]\n",
    "    if len(doublespace_split)>1:\n",
    "        return doublespace_split[0]\n",
    "        \n",
    "    return space_split[-1]\n",
    "\n",
    "\n",
    "\n",
    "dat['Name1'] = dat['Kundenname'].apply(name_handling_firstname)\n",
    "dat['Name2'] = dat['Kundenname'].apply(name_handling_lastname)\n",
    "dat['Kundenname'] = dat['Kundenname'].str.lower()\n",
    "dat['Kundenname Zeile 2 '] = dat['Kundenname Zeile 2 '].str.lower()"
   ]
  },
  {
   "cell_type": "markdown",
   "metadata": {},
   "source": [
    "#### Adresse"
   ]
  },
  {
   "cell_type": "code",
   "execution_count": 11,
   "metadata": {},
   "outputs": [
    {
     "name": "stdout",
     "output_type": "stream",
     "text": [
      "Adresse ist evtl. nicht notwendig.\n",
      "In 'Adresszeile 2 ' steht viel Mist.\n"
     ]
    }
   ],
   "source": [
    "#print(dat.groupby('Adresse Zeile 2')['Brand'].count())\n",
    "print('Adresse ist evtl. nicht notwendig.')\n",
    "print('In \\'Adresszeile 2 \\' steht viel Mist.')"
   ]
  },
  {
   "cell_type": "markdown",
   "metadata": {},
   "source": [
    "#### PLZ handling"
   ]
  },
  {
   "cell_type": "markdown",
   "metadata": {},
   "source": [
    "PLZ cleaning ist nur für deutsche PLZ gültig. Deshalb wird der Datensatz gesplittet in 'de' und 'notde'."
   ]
  },
  {
   "cell_type": "code",
   "execution_count": 12,
   "metadata": {},
   "outputs": [],
   "source": [
    "dat_de = dat.loc[(dat['Kundennation'] == 'DE') | (dat['Kundennation'] == 'D')].copy()\n",
    "dat_notde = dat.loc[-((dat['Kundennation'] == 'DE') | (dat['Kundennation'] == 'D'))].copy()"
   ]
  },
  {
   "cell_type": "markdown",
   "metadata": {},
   "source": [
    "##### Non-German Customers"
   ]
  },
  {
   "cell_type": "code",
   "execution_count": 13,
   "metadata": {},
   "outputs": [
    {
     "name": "stdout",
     "output_type": "stream",
     "text": [
      "Anzahl der Buchungen aus dem Ausland:\n",
      "Es gibt 115 Buchungen aus dem Ausland, sortiert nach Nationen:\n",
      "Kundennation\n",
      "AT     7\n",
      "BE    11\n",
      "CH    12\n",
      "CN     1\n",
      "CS     1\n",
      "DK    45\n",
      "FR     2\n",
      "GB     1\n",
      "LU     3\n",
      "NL    24\n",
      "PL     4\n",
      "SE     2\n",
      "US     1\n",
      "Name: Abreise, dtype: int64\n",
      "\n",
      "Häufigste Buchungen nach PLZ:\n",
      "PLZ\n",
      "4600     28\n",
      "8000      5\n",
      "0000      4\n",
      "00000     2\n",
      "3765      1\n",
      "Name: Abreise, dtype: int64\n"
     ]
    }
   ],
   "source": [
    "print('Anzahl der Buchungen aus dem Ausland:')\n",
    "print('Es gibt',dat_notde.shape[0], 'Buchungen aus dem Ausland, sortiert nach Nationen:')\n",
    "print(dat_notde.groupby(['Kundennation'])['Abreise'].count())\n",
    "print()\n",
    "print('Häufigste Buchungen nach PLZ:')\n",
    "print(dat_notde.groupby('PLZ')['Abreise'].count().sort_values(ascending=False)[:5])"
   ]
  },
  {
   "cell_type": "markdown",
   "metadata": {},
   "source": [
    "Split data set into German and non_German customers."
   ]
  },
  {
   "cell_type": "markdown",
   "metadata": {},
   "source": [
    "Es gibt 28 Buchungen von Spitzke Scandinavia A/S mit Unternehmenssitz in Dänemark, die zu einem deutschen Bauunternehmen für Bahninfrastruktur gehört.\n",
    "\n",
    "Es gibt 5 Buchungen der STRABAG AG, ein börsennotiertes österreichisches Unternehmen mit Hauptsitz in Wien. Strabag ist eines der größten Bauunternehmen Europas."
   ]
  },
  {
   "cell_type": "code",
   "execution_count": 14,
   "metadata": {},
   "outputs": [],
   "source": [
    "#df = df.applymap(lambda x: str(x).strip() if len(str(x).strip()) else None)\n",
    "def PLZ_handling_de(PLZ):\n",
    "    PLZ = str(PLZ)\n",
    "    \n",
    "    noPLZ = ['12345','11111','22222','44444','55555','66666','77777','88888','99999']\n",
    "    \n",
    "    if (len(PLZ) < 5) | (PLZ in noPLZ):\n",
    "        return '00000'\n",
    "    elif len(PLZ.split('-'))>1:\n",
    "        return PLZ.split('-')[1]\n",
    "    else:\n",
    "        return PLZ\n",
    "\n",
    "dat_de['PLZ'] = dat_de['PLZ'].apply(PLZ_handling_de)"
   ]
  },
  {
   "cell_type": "markdown",
   "metadata": {},
   "source": [
    "## Saving Data"
   ]
  },
  {
   "cell_type": "code",
   "execution_count": 15,
   "metadata": {},
   "outputs": [],
   "source": [
    "import pickle\n",
    "dat.to_pickle('allDat.pkl')\n",
    "dat_de.to_pickle('deDat.pkl')"
   ]
  }
 ],
 "metadata": {
  "kernelspec": {
   "display_name": "Python 3",
   "language": "python",
   "name": "python3"
  },
  "language_info": {
   "codemirror_mode": {
    "name": "ipython",
    "version": 3
   },
   "file_extension": ".py",
   "mimetype": "text/x-python",
   "name": "python",
   "nbconvert_exporter": "python",
   "pygments_lexer": "ipython3",
   "version": "3.6.5"
  }
 },
 "nbformat": 4,
 "nbformat_minor": 2
}
